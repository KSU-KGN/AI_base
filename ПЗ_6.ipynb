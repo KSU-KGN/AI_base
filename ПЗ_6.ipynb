{
  "nbformat": 4,
  "nbformat_minor": 0,
  "metadata": {
    "colab": {
      "provenance": []
    },
    "kernelspec": {
      "name": "python3",
      "display_name": "Python 3"
    },
    "language_info": {
      "name": "python"
    }
  },
  "cells": [
    {
      "cell_type": "markdown",
      "source": [],
      "metadata": {
        "id": "hCeykmnlUP_8"
      }
    },
    {
      "cell_type": "markdown",
      "source": [
        "Ели не установлен telebot, то устанавливаем его и библиотеки к telebot."
      ],
      "metadata": {
        "id": "mXDJT5Q6VrIQ"
      }
    },
    {
      "cell_type": "code",
      "source": [
        "# запускаем, если только не установлен!!!\n",
        "!pip install telebot\n",
        "#!pip install PyTelegramBotAPI==2.2.3\n",
        "!pip install PyTelegramBotAPI==3.6.7"
      ],
      "metadata": {
        "colab": {
          "base_uri": "https://localhost:8080/"
        },
        "id": "pblrcPa2UQU8",
        "outputId": "9e8a9098-c2e2-4b1a-f924-8fddfbe42e71"
      },
      "execution_count": 1,
      "outputs": [
        {
          "output_type": "stream",
          "name": "stdout",
          "text": [
            "Requirement already satisfied: telebot in /usr/local/lib/python3.10/dist-packages (0.0.5)\n",
            "Requirement already satisfied: pyTelegramBotAPI in /usr/local/lib/python3.10/dist-packages (from telebot) (3.6.7)\n",
            "Requirement already satisfied: requests in /usr/local/lib/python3.10/dist-packages (from telebot) (2.31.0)\n",
            "Requirement already satisfied: six in /usr/local/lib/python3.10/dist-packages (from pyTelegramBotAPI->telebot) (1.16.0)\n",
            "Requirement already satisfied: charset-normalizer<4,>=2 in /usr/local/lib/python3.10/dist-packages (from requests->telebot) (3.3.2)\n",
            "Requirement already satisfied: idna<4,>=2.5 in /usr/local/lib/python3.10/dist-packages (from requests->telebot) (3.6)\n",
            "Requirement already satisfied: urllib3<3,>=1.21.1 in /usr/local/lib/python3.10/dist-packages (from requests->telebot) (2.0.7)\n",
            "Requirement already satisfied: certifi>=2017.4.17 in /usr/local/lib/python3.10/dist-packages (from requests->telebot) (2024.2.2)\n",
            "Requirement already satisfied: PyTelegramBotAPI==3.6.7 in /usr/local/lib/python3.10/dist-packages (3.6.7)\n",
            "Requirement already satisfied: requests in /usr/local/lib/python3.10/dist-packages (from PyTelegramBotAPI==3.6.7) (2.31.0)\n",
            "Requirement already satisfied: six in /usr/local/lib/python3.10/dist-packages (from PyTelegramBotAPI==3.6.7) (1.16.0)\n",
            "Requirement already satisfied: charset-normalizer<4,>=2 in /usr/local/lib/python3.10/dist-packages (from requests->PyTelegramBotAPI==3.6.7) (3.3.2)\n",
            "Requirement already satisfied: idna<4,>=2.5 in /usr/local/lib/python3.10/dist-packages (from requests->PyTelegramBotAPI==3.6.7) (3.6)\n",
            "Requirement already satisfied: urllib3<3,>=1.21.1 in /usr/local/lib/python3.10/dist-packages (from requests->PyTelegramBotAPI==3.6.7) (2.0.7)\n",
            "Requirement already satisfied: certifi>=2017.4.17 in /usr/local/lib/python3.10/dist-packages (from requests->PyTelegramBotAPI==3.6.7) (2024.2.2)\n"
          ]
        }
      ]
    },
    {
      "cell_type": "markdown",
      "source": [
        "Импортируем необходимое"
      ],
      "metadata": {
        "id": "9lZ5AFnjZlKZ"
      }
    },
    {
      "cell_type": "code",
      "source": [
        "import telebot"
      ],
      "metadata": {
        "id": "u2Wk40blWPQ3"
      },
      "execution_count": 2,
      "outputs": []
    },
    {
      "cell_type": "markdown",
      "source": [
        "Задаём необходимые переменные"
      ],
      "metadata": {
        "id": "X9WwJ69_Z6Fq"
      }
    },
    {
      "cell_type": "code",
      "source": [
        "API_token = '7010549844:AAH0abrb2AD8TE3ILFGRr1wlehjZHcHesV8'\n",
        "API_URL='https://7012.deeppavlov.ai/model'"
      ],
      "metadata": {
        "id": "12sz5_4TZ6RR"
      },
      "execution_count": 3,
      "outputs": []
    },
    {
      "cell_type": "code",
      "source": [
        "bot = telebot.TeleBot(API_token)"
      ],
      "metadata": {
        "id": "G8_Pjq1kaQiY"
      },
      "execution_count": 4,
      "outputs": []
    },
    {
      "cell_type": "markdown",
      "source": [
        "Прототип меню при запуске бота"
      ],
      "metadata": {
        "id": "dgaulANxadtL"
      }
    },
    {
      "cell_type": "code",
      "source": [
        "keyboard1 = telebot.types.ReplyKeyboardMarkup(True, True)\n",
        "keyboard1.row('/start', '/help', 'Привет', '/wiki', 'Пока')"
      ],
      "metadata": {
        "colab": {
          "base_uri": "https://localhost:8080/"
        },
        "id": "eIUQ6-0Had2o",
        "outputId": "3da7a7d1-2e11-448a-d729-39c21d09f7c2"
      },
      "execution_count": 5,
      "outputs": [
        {
          "output_type": "execute_result",
          "data": {
            "text/plain": [
              "<telebot.types.ReplyKeyboardMarkup at 0x7903702f2440>"
            ]
          },
          "metadata": {},
          "execution_count": 5
        }
      ]
    },
    {
      "cell_type": "markdown",
      "source": [],
      "metadata": {
        "id": "Y2yRSh7RhsAs"
      }
    },
    {
      "cell_type": "code",
      "source": [
        "# Handler '/start' and '/help' and '/wiki'\n",
        "@bot.message_handler(commands=['start'])\n",
        "def start_message(message):\n",
        "    bot.send_message(message.chat.id, 'Приветствую тебя!\\nЯ - бот, давай веселиться!', reply_markup = keyboard1)\n",
        "@bot.message_handler(commands=['help'])\n",
        "def help_message(message):\n",
        "    bot.send_message(message.chat.id, 'Ты можешь управлять мной:\\n/help\\nПривет/ hi\\nВах/ wah\\nСмешно\\n/wiki\\nПока/ by')\n",
        "@bot.message_handler(commands=['wiki'])\n",
        "def wiki(message):\n",
        "    quest = message.text.split()[1:]\n",
        "    qq=\" \".join(quest)\n",
        "    data = { 'question_raw': [qq]}\n",
        "    try:\n",
        "        res = requests.post(API_URL,json=data,verify=False).json()\n",
        "        bot.send_message(message.chat.id, res)\n",
        "    except:\n",
        "        bot.send_message(message.chat.id, \"Я ничего не нашел...\")\n",
        "        bot.send_sticker(message.chat.id, 'CAACAgIAAxkBAAELywpmAaIZm-vFD4jmWFUilpFOMXYD7AACVwAD-7g6BHKLsf07S5gQNAQ')\n",
        "\n",
        "# обработка текстовых команд (в любом регистре)\n",
        "@bot.message_handler(content_types=['text'])\n",
        "def send_text(message):\n",
        "    if message.text.lower() in ('привет', 'hi'):\n",
        "        bot.send_message(message.chat.id, 'Привет, мой повелитель!')\n",
        "        bot.send_sticker(message.chat.id, 'CAACAgIAAxkBAAELyr9mAXUZuDuunMb0GUaLnW5h30wjLQACTQAD-7g6BHwsbcWls4qENAQ')\n",
        "    elif message.text.lower() in ('пока', 'by'):\n",
        "        bot.send_message(message.chat.id, 'До свидания, мой повелитель')\n",
        "        bot.send_sticker(message.chat.id, 'CAACAgIAAxkBAAELyrVmAW8vVZfOilMtroqusr9D1jcgMQACPAAD-7g6BAwMRWBCpy3SNAQ')\n",
        "        #bot.stop_polling()\n",
        "    elif message.text.lower() in ('вах', 'wah'):\n",
        "        bot.send_message(message.chat.id, 'Стикер для тебя!')\n",
        "        bot.send_sticker(message.chat.id, 'CAACAgIAAxkBAAELyrNmAW79EJZDc_IUJgjDSlr6eJWcZAACYgAD-7g6BPdNc5Vkgbc7NAQ')\n",
        "    elif 'сме' in message.text.lower() or 'весел' in message.text.lower():\n",
        "        bot.send_sticker(message.chat.id, 'CAACAgIAAxkBAAELyrFmAW7QEtYYqKSnVmwEX9EyPuqIJQACSAAD-7g6BFWfmqd2HHeHNAQ')\n",
        "    else:\n",
        "        bot.send_message(message.chat.id, 'Я вас не понимаю...')\n",
        "        bot.send_sticker(message.chat.id, 'CAACAgIAAxkBAAELyrlmAW9gC9d4ndpq4uouXV8ZkQoH0QACXQAD-7g6BIxETCdoh2xXNAQ')\n",
        "\n",
        "# вывод стикера\n",
        "@bot.message_handler(content_types=['sticker'])\n",
        "def send_sticker(message):\n",
        "  print(message)"
      ],
      "metadata": {
        "id": "tjsIQ_B8htTJ"
      },
      "execution_count": 6,
      "outputs": []
    },
    {
      "cell_type": "markdown",
      "source": [
        "Запуск telebot-а"
      ],
      "metadata": {
        "id": "dYzlQaFAa4aP"
      }
    },
    {
      "cell_type": "code",
      "source": [
        "bot.polling()"
      ],
      "metadata": {
        "id": "7AEAcd6Ra4nw"
      },
      "execution_count": 7,
      "outputs": []
    },
    {
      "cell_type": "markdown",
      "source": [
        "Остановить telebot"
      ],
      "metadata": {
        "id": "qxCG1fhRheZl"
      }
    },
    {
      "cell_type": "code",
      "source": [
        "bot.stop_polling()"
      ],
      "metadata": {
        "id": "cHZ2zXRwhej2"
      },
      "execution_count": 21,
      "outputs": []
    }
  ]
}